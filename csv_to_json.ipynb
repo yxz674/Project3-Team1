{
 "cells": [
  {
   "cell_type": "markdown",
   "metadata": {},
   "source": [
    "### https://www.geeksforgeeks.org/convert-csv-to-json-using-python/ for this method"
   ]
  },
  {
   "cell_type": "code",
   "execution_count": 1,
   "metadata": {},
   "outputs": [],
   "source": [
    "import pandas as pd \n",
    "import json\n",
    "import csv"
   ]
  },
  {
   "cell_type": "markdown",
   "metadata": {},
   "source": [
    "### Do not run the csv to json for the beer_id again, it will cause an index error with the sqlalchemy database creation in the last cell of the beer_data.ipynb notebook."
   ]
  },
  {
   "cell_type": "code",
   "execution_count": 3,
   "metadata": {},
   "outputs": [],
   "source": [
    "# beer_id.csv to json\n",
    "# function to convert csv to json\n",
    "def csv_to_json(csv_file, json_file):\n",
    "\n",
    "    data = {}\n",
    "\n",
    "    # open csv reader\n",
    "    with open(csv_file, encoding='utf-8') as csvfile:\n",
    "        reader = csv.DictReader(csvfile)\n",
    "        # convert each row to a dictionary and add to data\n",
    "        for row in reader:\n",
    "            key = row['index']\n",
    "            data[key] = row\n",
    "\n",
    "    # open json writer and use json.dump to dump data\n",
    "    with open(json_file, 'w',encoding='utf-8') as jsonfile:\n",
    "        jsonfile.write(json.dumps(data, indent=4))\n",
    "\n",
    "# define filepaths for csv and json\n",
    "csv_file = r'dataframes\\beer_id.csv'\n",
    "json_file = r'dataframes\\beer_id.json'\n",
    "\n",
    "csv_to_json(csv_file, json_file)\n"
   ]
  },
  {
   "cell_type": "code",
   "execution_count": 6,
   "metadata": {},
   "outputs": [],
   "source": [
    "# brewery_info.csv to json\n",
    "# function to convert csv to json\n",
    "def csv_to_json(csv_file, json_file):\n",
    "\n",
    "    data = {}\n",
    "\n",
    "    # open csv reader\n",
    "    with open(csv_file, encoding='utf-8') as csvfile:\n",
    "        reader = csv.DictReader(csvfile)\n",
    "        # convert each row to a dictionary and add to data\n",
    "        for row in reader:\n",
    "            key = row['brewery_id']\n",
    "            data[key] = row\n",
    "\n",
    "    # open json writer and use json.dump to dump data\n",
    "    with open(json_file, 'w',encoding='utf-8') as jsonfile:\n",
    "        jsonfile.write(json.dumps(data, indent=4))\n",
    "\n",
    "# define filepaths for csv and json\n",
    "csv_file = r'dataframes\\brewery_info.csv'\n",
    "json_file = r'dataframes\\brewery_info.json'\n",
    "\n",
    "csv_to_json(csv_file, json_file)\n"
   ]
  },
  {
   "cell_type": "code",
   "execution_count": 8,
   "metadata": {},
   "outputs": [],
   "source": [
    "# beer_profile.csv to json\n",
    "# function to convert csv to json\n",
    "def csv_to_json(csv_file, json_file):\n",
    "\n",
    "    data = {}\n",
    "\n",
    "    # open csv reader\n",
    "    with open(csv_file, encoding='utf-8') as csvfile:\n",
    "        reader = csv.DictReader(csvfile)\n",
    "        # convert each row to a dictionary and add to data\n",
    "        for row in reader:\n",
    "            key = row['beer_id']\n",
    "            data[key] = row\n",
    "\n",
    "    # open json writer and use json.dump to dump data\n",
    "    with open(json_file, 'w',encoding='utf-8') as jsonfile:\n",
    "        jsonfile.write(json.dumps(data, indent=4))\n",
    "\n",
    "# define filepaths for csv and json\n",
    "csv_file = r'dataframes\\beer_profile.csv'\n",
    "json_file = r'dataframes\\beer_profile.json'\n",
    "\n",
    "csv_to_json(csv_file, json_file)\n"
   ]
  },
  {
   "cell_type": "code",
   "execution_count": 9,
   "metadata": {},
   "outputs": [],
   "source": [
    "# beer_flavor.csv to json\n",
    "# function to convert csv to json\n",
    "def csv_to_json(csv_file, json_file):\n",
    "\n",
    "    data = {}\n",
    "\n",
    "    # open csv reader\n",
    "    with open(csv_file, encoding='utf-8') as csvfile:\n",
    "        reader = csv.DictReader(csvfile)\n",
    "        # convert each row to a dictionary and add to data\n",
    "        for row in reader:\n",
    "            key = row['beer_id']\n",
    "            data[key] = row\n",
    "\n",
    "    # open json writer and use json.dump to dump data\n",
    "    with open(json_file, 'w',encoding='utf-8') as jsonfile:\n",
    "        jsonfile.write(json.dumps(data, indent=4))\n",
    "\n",
    "# define filepaths for csv and json\n",
    "csv_file = r'dataframes\\beer_flavor.csv'\n",
    "json_file = r'dataframes\\beer_flavor.json'\n",
    "\n",
    "csv_to_json(csv_file, json_file)\n"
   ]
  }
 ],
 "metadata": {
  "interpreter": {
   "hash": "696a868d263820d96c3e015462b3285736058cba07fad26566882fe661452fde"
  },
  "kernelspec": {
   "display_name": "Python 3.8.8 64-bit ('base': conda)",
   "language": "python",
   "name": "python3"
  },
  "language_info": {
   "codemirror_mode": {
    "name": "ipython",
    "version": 3
   },
   "file_extension": ".py",
   "mimetype": "text/x-python",
   "name": "python",
   "nbconvert_exporter": "python",
   "pygments_lexer": "ipython3",
   "version": "3.8.8"
  },
  "orig_nbformat": 4
 },
 "nbformat": 4,
 "nbformat_minor": 2
}
