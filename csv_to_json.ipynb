{
 "cells": [
  {
   "cell_type": "markdown",
   "metadata": {},
   "source": [
    "### https://www.geeksforgeeks.org/convert-csv-to-json-using-python/ for this method; creates clean json"
   ]
  },
  {
   "cell_type": "code",
   "execution_count": 1,
   "metadata": {},
   "outputs": [],
   "source": [
    "import pandas as pd \n",
    "import json\n",
    "import csv"
   ]
  },
  {
   "cell_type": "markdown",
   "metadata": {},
   "source": [
    "### Do not run the csv to json for the beer_id again, it will cause an index error with the sqlalchemy database creation in the last cell of the beer_data.ipynb notebook."
   ]
  },
  {
   "cell_type": "code",
   "execution_count": 2,
   "metadata": {},
   "outputs": [
    {
     "ename": "KeyError",
     "evalue": "'index'",
     "output_type": "error",
     "traceback": [
      "\u001b[1;31m---------------------------------------------------------------------------\u001b[0m",
      "\u001b[1;31mKeyError\u001b[0m                                  Traceback (most recent call last)",
      "\u001b[1;32m<ipython-input-2-7946443c858d>\u001b[0m in \u001b[0;36m<module>\u001b[1;34m\u001b[0m\n\u001b[0;32m     21\u001b[0m \u001b[0mjson_file\u001b[0m \u001b[1;33m=\u001b[0m \u001b[1;34mr'json\\beer_id.json'\u001b[0m\u001b[1;33m\u001b[0m\u001b[1;33m\u001b[0m\u001b[0m\n\u001b[0;32m     22\u001b[0m \u001b[1;33m\u001b[0m\u001b[0m\n\u001b[1;32m---> 23\u001b[1;33m \u001b[0mcsv_to_json\u001b[0m\u001b[1;33m(\u001b[0m\u001b[0mcsv_file\u001b[0m\u001b[1;33m,\u001b[0m \u001b[0mjson_file\u001b[0m\u001b[1;33m)\u001b[0m\u001b[1;33m\u001b[0m\u001b[1;33m\u001b[0m\u001b[0m\n\u001b[0m",
      "\u001b[1;32m<ipython-input-2-7946443c858d>\u001b[0m in \u001b[0;36mcsv_to_json\u001b[1;34m(csv_file, json_file)\u001b[0m\n\u001b[0;32m     10\u001b[0m         \u001b[1;31m# convert each row to a dictionary and add to data\u001b[0m\u001b[1;33m\u001b[0m\u001b[1;33m\u001b[0m\u001b[1;33m\u001b[0m\u001b[0m\n\u001b[0;32m     11\u001b[0m         \u001b[1;32mfor\u001b[0m \u001b[0mrow\u001b[0m \u001b[1;32min\u001b[0m \u001b[0mreader\u001b[0m\u001b[1;33m:\u001b[0m\u001b[1;33m\u001b[0m\u001b[1;33m\u001b[0m\u001b[0m\n\u001b[1;32m---> 12\u001b[1;33m             \u001b[0mkey\u001b[0m \u001b[1;33m=\u001b[0m \u001b[0mrow\u001b[0m\u001b[1;33m[\u001b[0m\u001b[1;34m'index'\u001b[0m\u001b[1;33m]\u001b[0m\u001b[1;33m\u001b[0m\u001b[1;33m\u001b[0m\u001b[0m\n\u001b[0m\u001b[0;32m     13\u001b[0m             \u001b[0mdata\u001b[0m\u001b[1;33m[\u001b[0m\u001b[0mkey\u001b[0m\u001b[1;33m]\u001b[0m \u001b[1;33m=\u001b[0m \u001b[0mrow\u001b[0m\u001b[1;33m\u001b[0m\u001b[1;33m\u001b[0m\u001b[0m\n\u001b[0;32m     14\u001b[0m \u001b[1;33m\u001b[0m\u001b[0m\n",
      "\u001b[1;31mKeyError\u001b[0m: 'index'"
     ]
    }
   ],
   "source": [
    "# beer_id.csv to json\n",
    "# function to convert csv to json\n",
    "def csv_to_json(csv_file, json_file):\n",
    "\n",
    "    data = {}\n",
    "\n",
    "    # open csv reader\n",
    "    with open(csv_file, encoding='utf-8') as csvfile:\n",
    "        reader = csv.DictReader(csvfile)\n",
    "        # convert each row to a dictionary and add to data\n",
    "        for row in reader:\n",
    "            key = row['index']\n",
    "            data[key] = row\n",
    "\n",
    "    # open json writer and use json.dump to dump data\n",
    "    with open(json_file, 'w',encoding='utf-8') as jsonfile:\n",
    "        jsonfile.write(json.dumps(data, indent=4))\n",
    "\n",
    "# define filepaths for csv and json\n",
    "csv_file = r'dataframes\\beer_id.csv'\n",
    "json_file = r'json\\beer_id.json'\n",
    "\n",
    "csv_to_json(csv_file, json_file)\n"
   ]
  },
  {
   "cell_type": "code",
   "execution_count": 3,
   "metadata": {},
   "outputs": [],
   "source": [
    "# brewery_info.csv to json\n",
    "# function to convert csv to json\n",
    "def csv_to_json(csv_file, json_file):\n",
    "\n",
    "    data = {}\n",
    "\n",
    "    # open csv reader\n",
    "    with open(csv_file, encoding='utf-8') as csvfile:\n",
    "        reader = csv.DictReader(csvfile)\n",
    "        # convert each row to a dictionary and add to data\n",
    "        for row in reader:\n",
    "            key = row['brewery_id']\n",
    "            data[key] = row\n",
    "\n",
    "    # open json writer and use json.dump to dump data\n",
    "    with open(json_file, 'w',encoding='utf-8') as jsonfile:\n",
    "        jsonfile.write(json.dumps(data, indent=4))\n",
    "\n",
    "# define filepaths for csv and json\n",
    "csv_file = r'dataframes\\brewery_info.csv'\n",
    "json_file = r'json\\brewery_info.json'\n",
    "\n",
    "csv_to_json(csv_file, json_file)\n"
   ]
  },
  {
   "cell_type": "code",
   "execution_count": 5,
   "metadata": {},
   "outputs": [],
   "source": [
    "# beer_profile.csv to json\n",
    "# function to convert csv to json\n",
    "def csv_to_json(csv_file, json_file):\n",
    "\n",
    "    data = {}\n",
    "\n",
    "    # open csv reader\n",
    "    with open(csv_file, encoding='utf-8') as csvfile:\n",
    "        reader = csv.DictReader(csvfile)\n",
    "        # convert each row to a dictionary and add to data\n",
    "        for row in reader:\n",
    "            key = row['beer_id']\n",
    "            data[key] = row\n",
    "\n",
    "    # open json writer and use json.dump to dump data\n",
    "    with open(json_file, 'w',encoding='utf-8') as jsonfile:\n",
    "        jsonfile.write(json.dumps(data, indent=4))\n",
    "\n",
    "# define filepaths for csv and json\n",
    "csv_file = r'dataframes\\beer_profile.csv'\n",
    "json_file = r'json\\beer_profile.json'\n",
    "\n",
    "csv_to_json(csv_file, json_file)\n"
   ]
  },
  {
   "cell_type": "code",
   "execution_count": 6,
   "metadata": {},
   "outputs": [],
   "source": [
    "# beer_flavor.csv to json\n",
    "# function to convert csv to json\n",
    "def csv_to_json(csv_file, json_file):\n",
    "\n",
    "    data = {}\n",
    "\n",
    "    # open csv reader\n",
    "    with open(csv_file, encoding='utf-8') as csvfile:\n",
    "        reader = csv.DictReader(csvfile)\n",
    "        # convert each row to a dictionary and add to data\n",
    "        for row in reader:\n",
    "            key = row['beer_id']\n",
    "            data[key] = row\n",
    "\n",
    "    # open json writer and use json.dump to dump data\n",
    "    with open(json_file, 'w',encoding='utf-8') as jsonfile:\n",
    "        jsonfile.write(json.dumps(data, indent=4))\n",
    "\n",
    "# define filepaths for csv and json\n",
    "csv_file = r'dataframes\\beer_flavor.csv'\n",
    "json_file = r'json\\beer_flavor.json'\n",
    "\n",
    "csv_to_json(csv_file, json_file)\n"
   ]
  },
  {
   "cell_type": "code",
   "execution_count": 7,
   "metadata": {},
   "outputs": [],
   "source": [
    "# top_beers.csv to json\n",
    "# function to convert csv to json\n",
    "def csv_to_json(csv_file, json_file):\n",
    "\n",
    "    data = {}\n",
    "\n",
    "    # open csv reader\n",
    "    with open(csv_file, encoding='utf-8') as csvfile:\n",
    "        reader = csv.DictReader(csvfile)\n",
    "        # convert each row to a dictionary and add to data\n",
    "        for row in reader:\n",
    "            key = row['beer_id']\n",
    "            data[key] = row\n",
    "\n",
    "    # open json writer and use json.dump to dump data\n",
    "    with open(json_file, 'w',encoding='utf-8') as jsonfile:\n",
    "        jsonfile.write(json.dumps(data, indent=4))\n",
    "\n",
    "# define filepaths for csv and json\n",
    "csv_file = r'dataframes\\top_beers.csv'\n",
    "json_file = r'json\\top_beers.json'\n",
    "\n",
    "csv_to_json(csv_file, json_file)\n"
   ]
  }
 ],
 "metadata": {
  "interpreter": {
   "hash": "696a868d263820d96c3e015462b3285736058cba07fad26566882fe661452fde"
  },
  "kernelspec": {
   "display_name": "Python 3.8.8 64-bit ('base': conda)",
   "language": "python",
   "name": "python3"
  },
  "language_info": {
   "codemirror_mode": {
    "name": "ipython",
    "version": 3
   },
   "file_extension": ".py",
   "mimetype": "text/x-python",
   "name": "python",
   "nbconvert_exporter": "python",
   "pygments_lexer": "ipython3",
   "version": "3.8.8"
  },
  "orig_nbformat": 4
 },
 "nbformat": 4,
 "nbformat_minor": 2
}
