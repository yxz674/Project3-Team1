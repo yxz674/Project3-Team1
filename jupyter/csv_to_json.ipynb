{
 "cells": [
  {
   "cell_type": "markdown",
   "metadata": {},
   "source": [
    "### https://www.geeksforgeeks.org/convert-csv-to-json-using-python/ for this method; creates clean json"
   ]
  },
  {
   "cell_type": "code",
   "execution_count": 1,
   "metadata": {},
   "outputs": [],
   "source": [
    "import pandas as pd \n",
    "import json\n",
    "import csv\n",
    "import os\n",
    "import glob"
   ]
  },
  {
   "cell_type": "code",
   "execution_count": 9,
   "metadata": {},
   "outputs": [],
   "source": [
    "path = r\"C:\\Users\\hmwhi\\OneDrive\\Desktop\\GitHub\\Project3-Team1\\json\\\\\"\n",
    "for file in glob.iglob(r\"C:\\Users\\hmwhi\\OneDrive\\Desktop\\GitHub\\Project3-Team1\\flavor_csv\\*.csv\", recursive=True):\n",
    "    file_name = file[-11:]\n",
    "    # print(file_name)\n",
    "    def csv_to_json(file,json_file):\n",
    "        data = {}\n",
    "        with open(file, encoding='utf-8') as csv_file:\n",
    "            reader = csv.DictReader(csv_file)\n",
    "            for row in reader:\n",
    "                # print(row)\n",
    "                key = row['Placement']\n",
    "                data[key] = row\n",
    "        \n",
    "        with open(json_file, 'w', encoding='utf-8') as json_file:\n",
    "            json_file.write(json.dumps(data, indent=4))\n",
    "\n",
    "    json_file_name = file_name[:-4] + '.json'\n",
    "    json_file =  path + json_file_name\n",
    "    csv_to_json(file,json_file)"
   ]
  }
 ],
 "metadata": {
  "interpreter": {
   "hash": "696a868d263820d96c3e015462b3285736058cba07fad26566882fe661452fde"
  },
  "kernelspec": {
   "display_name": "Python 3.8.8 64-bit ('base': conda)",
   "language": "python",
   "name": "python3"
  },
  "language_info": {
   "codemirror_mode": {
    "name": "ipython",
    "version": 3
   },
   "file_extension": ".py",
   "mimetype": "text/x-python",
   "name": "python",
   "nbconvert_exporter": "python",
   "pygments_lexer": "ipython3",
   "version": "3.8.8"
  },
  "orig_nbformat": 4
 },
 "nbformat": 4,
 "nbformat_minor": 2
}
