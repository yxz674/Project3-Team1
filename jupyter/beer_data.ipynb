{
 "cells": [
  {
   "cell_type": "code",
   "execution_count": null,
   "metadata": {},
   "outputs": [],
   "source": [
    "#  dependencies\n",
    "import pandas as pd\n",
    "import numpy as np\n",
    "import matplotlib.pyplot as plt\n"
   ]
  },
  {
   "cell_type": "code",
   "execution_count": null,
   "metadata": {},
   "outputs": [],
   "source": [
    "# reading in beer ratings csv\n",
    "\n",
    "df=pd.read_csv(r'C:\\Users\\hmwhi\\OneDrive\\Desktop\\GitHub\\Project3-Team1\\data\\beer_rating.csv')\n",
    "df.head()\n"
   ]
  },
  {
   "cell_type": "code",
   "execution_count": null,
   "metadata": {},
   "outputs": [],
   "source": [
    "#  read in usbreweries csv\n",
    "brdf = pd.read_csv(r'C:\\Users\\hmwhi\\OneDrive\\Desktop\\GitHub\\Project3-Team1\\data\\usbreweries.csv')\n",
    "brdf.head()"
   ]
  },
  {
   "cell_type": "code",
   "execution_count": null,
   "metadata": {},
   "outputs": [],
   "source": [
    "# creating brewery df based on the beer ratings csv to create a universaL index for all breweries\n",
    "df = df[['brewery']].drop_duplicates()\n",
    "ratings_brew_df = pd.DataFrame(df.groupby('brewery'))\n",
    "ratings_brewery_df = pd.DataFrame()\n",
    "ratings_brewery_df['brewery_name'] = ratings_brew_df[0]\n",
    "ratings_brewery_df.head()\n"
   ]
  },
  {
   "cell_type": "code",
   "execution_count": null,
   "metadata": {},
   "outputs": [],
   "source": [
    "# df based on open brewery db, to create a universal index for all breweries\n",
    "bdf = pd.read_csv(r'C:\\Users\\hmwhi\\OneDrive\\Desktop\\GitHub\\Project3-Team1\\data\\usbreweries.csv')\n",
    "bdf = bdf[['name']].drop_duplicates()\n",
    "bdf = pd.DataFrame(bdf.groupby('name'))\n",
    "\n",
    "grouped_bdf = pd.DataFrame()\n",
    "\n",
    "grouped_bdf['brewery_name'] = bdf[0]\n",
    "\n",
    "# grouped_bdf['brewery_name'] = grouped_bdf['brewery_name'].str.replace('(', '')\n",
    "# grouped_bdf['brewery_name'] = grouped_bdf['brewery_name'].str.replace(')', '')\n",
    "\n",
    "grouped_bdf.reset_index()"
   ]
  },
  {
   "cell_type": "code",
   "execution_count": null,
   "metadata": {},
   "outputs": [],
   "source": [
    "# merge based on brewery name\n",
    "\n",
    "merged_df = pd.merge(ratings_brewery_df, grouped_bdf, on=['brewery_name'],how='outer')\n",
    "merged_df = merged_df.drop_duplicates('brewery_name').reset_index().rename(columns={'index':'brewery_id'})\n",
    "merged_df.head()\n"
   ]
  },
  {
   "cell_type": "code",
   "execution_count": null,
   "metadata": {},
   "outputs": [],
   "source": [
    "# create beer : brewery df\n",
    "rdf = pd.read_csv(r'C:\\Users\\hmwhi\\OneDrive\\Desktop\\GitHub\\Project3-Team1\\data\\beer_rating.csv')\n",
    "rdf = rdf[['id','beer name','brewery']]\n",
    "rdf[['beer_id','beer_name','brewery_name']] = rdf[['id','beer name','brewery']]\n",
    "\n",
    "beer_to_brewery_df = pd.merge(rdf,merged_df,on=['brewery_name'])\n",
    "beer_to_brewery_df['brewery'] = merged_df['brewery_id']\n",
    "beer_to_brewery_df = beer_to_brewery_df.drop(columns=['brewery'])\n",
    "beer_to_brewery_df = beer_to_brewery_df[['brewery_name','brewery_id','beer_name','beer_id']]\n",
    "beer_to_brewery_df.head(50)\n",
    "\n",
    "id_df = beer_to_brewery_df[['brewery_id','beer_id']]\n",
    "id_df.head()"
   ]
  },
  {
   "cell_type": "code",
   "execution_count": null,
   "metadata": {},
   "outputs": [],
   "source": [
    "# create brewery info df\n",
    "bdf = pd.read_csv(r'C:\\Users\\hmwhi\\OneDrive\\Desktop\\GitHub\\Project3-Team1\\data\\usbreweries.csv')\n",
    "bdf = bdf.drop(columns=['Unnamed: 0','phone','country'])\n",
    "\n",
    "brewery_info_df = bdf.rename(columns={'name':'brewery_name'})\n",
    "brewery_info_df.head()\n",
    "\n",
    "brewery_info_df = pd.merge(brewery_info_df, merged_df, on=['brewery_name'],how='outer')\n",
    "\n",
    "brewery_info_df.reindex(columns=['brewery_id','brewery_name','brewery_type','city','state','country','latitude','longitude'])\n",
    "brewery_info_df.sort_values(by=['brewery_id'])\n",
    "\n",
    "brewery_info_df.head()"
   ]
  },
  {
   "cell_type": "code",
   "execution_count": null,
   "metadata": {},
   "outputs": [],
   "source": [
    "# create beer profile df\n",
    "profile_df = pd.read_csv(r'C:\\Users\\hmwhi\\OneDrive\\Desktop\\GitHub\\Project3-Team1\\data\\beer_rating.csv')\n",
    "profile_df = profile_df[['id','beer name','beer type','ABV','Min IBU','Max IBU','Ave Rating','Description']]\n",
    "profile_df['avg_ibu'] = (profile_df['Min IBU'] + profile_df['Max IBU'])/2\n",
    "profile_df = profile_df.drop(columns=['Min IBU','Max IBU'])\n",
    "profile_df = profile_df.rename(columns={'id':'beer_id','beer name':'beer_name','beer type':'beer_type','ABV':'abv','Ave Rating':'avg_rating','Description':'desc'})\n",
    "profile_df = profile_df[['beer_id','beer_name','beer_type','abv','avg_rating','avg_ibu','desc']]\n",
    "profile_df.head()"
   ]
  },
  {
   "cell_type": "code",
   "execution_count": null,
   "metadata": {},
   "outputs": [],
   "source": [
    "# create beer flavor profile df\n",
    "flavor_df = pd.read_csv(r'C:\\Users\\hmwhi\\OneDrive\\Desktop\\GitHub\\Project3-Team1\\data\\beer_rating.csv')\n",
    "flavor_df = flavor_df[['id','beer name','Astringency','Body','Alcohol','Bitter','Sweet','Sour','Salty','Fruits','Hoppy','Spices','Malty']]\n",
    "flavor_df = flavor_df.rename(columns={'id':'beer_id','beer name':'beer_name','Astringency':'astringency','Body':'body',\n",
    "                                    'Alcohol':'alcohol','Bitter':'bitter','Sweet':'sweet','Sour':'sour','Salty':'salty',\n",
    "                                    'Fruits':'fruits','Hoppy':'hoppy','Spices':'spices','Malty':'malty'})\n",
    "                                "
   ]
  },
  {
   "cell_type": "code",
   "execution_count": null,
   "metadata": {},
   "outputs": [],
   "source": [
    "id_df.to_csv(r'C:\\Users\\hmwhi\\OneDrive\\Desktop\\GitHub\\Project3-Team1\\dataframes\\beer_id.csv',index=False)\n",
    "brewery_info_df.to_csv(r'C:\\Users\\hmwhi\\OneDrive\\Desktop\\GitHub\\Project3-Team1\\dataframes\\brewery_info.csv',index=False)\n",
    "profile_df.to_csv(r'C:\\Users\\hmwhi\\OneDrive\\Desktop\\GitHub\\Project3-Team1\\dataframes\\beer_profile.csv',index=False)\n",
    "flavor_df.to_csv(r'C:\\Users\\hmwhi\\OneDrive\\Desktop\\GitHub\\Project3-Team1\\dataframes\\beer_flavor.csv',index=False)"
   ]
  },
  {
   "cell_type": "code",
   "execution_count": null,
   "metadata": {},
   "outputs": [],
   "source": [
    "# sql alchemy to create a database\n",
    "from sqlalchemy import create_engine\n"
   ]
  },
  {
   "cell_type": "code",
   "execution_count": null,
   "metadata": {},
   "outputs": [],
   "source": [
    "from config import postgres_password\n",
    "engine = create_engine('postgresql://postgres:'+ postgres_password +'@localhost:5432/mybeer')\n",
    "\n",
    "id_df.to_sql('beer_id',engine,if_exists='append')\n",
    "brewery_info_df.to_sql('brewery_info',engine,if_exists='append')\n",
    "profile_df.to_sql('beer_profile',engine,if_exists='append')\n",
    "flavor_df.to_sql('beer_flavor',engine,if_exists='append')\n",
    "\n",
    "engine.dispose()"
   ]
  },
  {
   "cell_type": "code",
   "execution_count": null,
   "metadata": {},
   "outputs": [],
   "source": [
    "id_df.to_json(r'C:\\Users\\hmwhi\\OneDrive\\Desktop\\GitHub\\Project3-Team1\\json\\beer_id.json',orient='records')\n",
    "brewery_info_df.to_json(r'C:\\Users\\hmwhi\\OneDrive\\Desktop\\GitHub\\Project3-Team1\\json\\brewery_info.json',orient='records')\n",
    "profile_df.to_json(r'C:\\Users\\hmwhi\\OneDrive\\Desktop\\GitHub\\Project3-Team1\\json\\beer_profile.json',orient='records')\n",
    "flavor_df.to_json(r'C:\\Users\\hmwhi\\OneDrive\\Desktop\\GitHub\\Project3-Team1\\json\\beer_flavor.json',orient='records')"
   ]
  },
  {
   "cell_type": "code",
   "execution_count": 62,
   "metadata": {},
   "outputs": [
    {
     "data": {
      "text/html": [
       "<div>\n",
       "<style scoped>\n",
       "    .dataframe tbody tr th:only-of-type {\n",
       "        vertical-align: middle;\n",
       "    }\n",
       "\n",
       "    .dataframe tbody tr th {\n",
       "        vertical-align: top;\n",
       "    }\n",
       "\n",
       "    .dataframe thead th {\n",
       "        text-align: right;\n",
       "    }\n",
       "</style>\n",
       "<table border=\"1\" class=\"dataframe\">\n",
       "  <thead>\n",
       "    <tr style=\"text-align: right;\">\n",
       "      <th></th>\n",
       "      <th>Beer Name</th>\n",
       "      <th>Brewery</th>\n",
       "      <th>Beer Type</th>\n",
       "      <th>ABV</th>\n",
       "      <th>Avg IBU</th>\n",
       "      <th>Ave Rating</th>\n",
       "      <th>Astringency</th>\n",
       "      <th>Body</th>\n",
       "      <th>Alcohol</th>\n",
       "      <th>Bitter</th>\n",
       "      <th>Sweet</th>\n",
       "      <th>Sour</th>\n",
       "      <th>Salty</th>\n",
       "      <th>Fruits</th>\n",
       "      <th>Hoppy</th>\n",
       "      <th>Spices</th>\n",
       "      <th>Malty</th>\n",
       "    </tr>\n",
       "  </thead>\n",
       "  <tbody>\n",
       "    <tr>\n",
       "      <th>0</th>\n",
       "      <td>Amber</td>\n",
       "      <td>Alaskan Brewing Co.</td>\n",
       "      <td>Altbier</td>\n",
       "      <td>5.3</td>\n",
       "      <td>37.5</td>\n",
       "      <td>3.65</td>\n",
       "      <td>13</td>\n",
       "      <td>32</td>\n",
       "      <td>9</td>\n",
       "      <td>47</td>\n",
       "      <td>74</td>\n",
       "      <td>33</td>\n",
       "      <td>0</td>\n",
       "      <td>33</td>\n",
       "      <td>57</td>\n",
       "      <td>8</td>\n",
       "      <td>111</td>\n",
       "    </tr>\n",
       "    <tr>\n",
       "      <th>1</th>\n",
       "      <td>Double Bag</td>\n",
       "      <td>Long Trail Brewing Co.</td>\n",
       "      <td>Altbier</td>\n",
       "      <td>7.2</td>\n",
       "      <td>37.5</td>\n",
       "      <td>3.90</td>\n",
       "      <td>12</td>\n",
       "      <td>57</td>\n",
       "      <td>18</td>\n",
       "      <td>33</td>\n",
       "      <td>55</td>\n",
       "      <td>16</td>\n",
       "      <td>0</td>\n",
       "      <td>24</td>\n",
       "      <td>35</td>\n",
       "      <td>12</td>\n",
       "      <td>84</td>\n",
       "    </tr>\n",
       "    <tr>\n",
       "      <th>2</th>\n",
       "      <td>Long Trail Ale</td>\n",
       "      <td>Long Trail Brewing Co.</td>\n",
       "      <td>Altbier</td>\n",
       "      <td>5.0</td>\n",
       "      <td>37.5</td>\n",
       "      <td>3.58</td>\n",
       "      <td>14</td>\n",
       "      <td>37</td>\n",
       "      <td>6</td>\n",
       "      <td>42</td>\n",
       "      <td>43</td>\n",
       "      <td>11</td>\n",
       "      <td>0</td>\n",
       "      <td>10</td>\n",
       "      <td>54</td>\n",
       "      <td>4</td>\n",
       "      <td>62</td>\n",
       "    </tr>\n",
       "    <tr>\n",
       "      <th>3</th>\n",
       "      <td>Doppelsticke</td>\n",
       "      <td>Uerige Obergärige Hausbrauerei</td>\n",
       "      <td>Altbier</td>\n",
       "      <td>8.5</td>\n",
       "      <td>37.5</td>\n",
       "      <td>4.15</td>\n",
       "      <td>13</td>\n",
       "      <td>55</td>\n",
       "      <td>31</td>\n",
       "      <td>47</td>\n",
       "      <td>101</td>\n",
       "      <td>18</td>\n",
       "      <td>1</td>\n",
       "      <td>49</td>\n",
       "      <td>40</td>\n",
       "      <td>16</td>\n",
       "      <td>119</td>\n",
       "    </tr>\n",
       "    <tr>\n",
       "      <th>4</th>\n",
       "      <td>Scurry</td>\n",
       "      <td>Off Color Brewing</td>\n",
       "      <td>Altbier</td>\n",
       "      <td>5.3</td>\n",
       "      <td>37.5</td>\n",
       "      <td>3.67</td>\n",
       "      <td>21</td>\n",
       "      <td>69</td>\n",
       "      <td>10</td>\n",
       "      <td>63</td>\n",
       "      <td>120</td>\n",
       "      <td>14</td>\n",
       "      <td>0</td>\n",
       "      <td>19</td>\n",
       "      <td>36</td>\n",
       "      <td>15</td>\n",
       "      <td>218</td>\n",
       "    </tr>\n",
       "  </tbody>\n",
       "</table>\n",
       "</div>"
      ],
      "text/plain": [
       "        Beer Name                         Brewery Beer Type  ABV  Avg IBU  \\\n",
       "0           Amber             Alaskan Brewing Co.   Altbier  5.3     37.5   \n",
       "1      Double Bag          Long Trail Brewing Co.   Altbier  7.2     37.5   \n",
       "2  Long Trail Ale          Long Trail Brewing Co.   Altbier  5.0     37.5   \n",
       "3    Doppelsticke  Uerige Obergärige Hausbrauerei   Altbier  8.5     37.5   \n",
       "4          Scurry               Off Color Brewing   Altbier  5.3     37.5   \n",
       "\n",
       "   Ave Rating  Astringency  Body  Alcohol  Bitter  Sweet  Sour  Salty  Fruits  \\\n",
       "0        3.65           13    32        9      47     74    33      0      33   \n",
       "1        3.90           12    57       18      33     55    16      0      24   \n",
       "2        3.58           14    37        6      42     43    11      0      10   \n",
       "3        4.15           13    55       31      47    101    18      1      49   \n",
       "4        3.67           21    69       10      63    120    14      0      19   \n",
       "\n",
       "   Hoppy  Spices  Malty  \n",
       "0     57       8    111  \n",
       "1     35      12     84  \n",
       "2     54       4     62  \n",
       "3     40      16    119  \n",
       "4     36      15    218  "
      ]
     },
     "execution_count": 62,
     "metadata": {},
     "output_type": "execute_result"
    }
   ],
   "source": [
    "# df for beer rankings\n",
    "top_beers = pd.read_csv(r\"C:\\Users\\hmwhi\\OneDrive\\Desktop\\GitHub\\Project3-Team1\\data\\beer_rating.csv\")\n",
    "# top_beers.head()\n",
    "top_beers['Avg IBU'] = (top_beers['Min IBU'] + top_beers['Max IBU'])/2\n",
    "top_beers = top_beers.drop(columns=['Name','Min IBU','Max IBU','id'])\n",
    "\n",
    "top_beers = top_beers.rename(columns={'brewery':'Brewery', 'beer name':'Beer Name', 'beer type':'Beer Type'})\n",
    "top_beers = top_beers[['Beer Name','Brewery','Beer Type','ABV','Avg IBU','Ave Rating','Astringency','Body','Alcohol','Bitter','Sweet','Sour','Salty','Fruits','Hoppy','Spices','Malty']]\n",
    "# top_beers = pd.merge(top_beers,beer_to_brewery_df,on=['beer_id'])\n",
    "# top_beers[['beer_id','beer_name','brewery_name','beer_type','abv','avg_rating','avg_ibu','desc','astringency','body','alcohol','bitter','sweet','sour','salty','fruits','hoppy','spices','malty']] = top_beers[['beer_id','beer_name_x','brewery_name','beer_type','abv','avg_rating','avg_ibu','desc','astringency','body','alcohol','bitter','sweet','sour','salty','fruits','hoppy','spices','malty']]\n",
    "top_beers.to_json(r'C:\\Users\\hmwhi\\OneDrive\\Desktop\\GitHub\\Project3-Team1\\json\\top_beers.json',orient='records')\n",
    "# # top_beers.to_csv(r'dataframes/top_beers.csv',index=False)\n",
    "top_beers.head()\n"
   ]
  },
  {
   "cell_type": "code",
   "execution_count": null,
   "metadata": {},
   "outputs": [],
   "source": [
    "placement = [1,2,3,4,5,6,7,8,9,10]\n",
    "\n",
    "top_ABV = top_beers.sort_values(by=['ABV'],ascending=False).head(10)\n",
    "top_ABV['Placement'] = placement\n",
    "\n",
    "top_ABV =  top_ABV[ ['Placement'] + [col for col in top_ABV.columns if col != 'Placement']] \\\n",
    "                                    .set_index(['Placement'])\n",
    "top_ABV = top_ABV[['Beer Name','ABV','Brewery','Beer Type']]\n",
    "top_ABV.to_csv(r'C:\\Users\\hmwhi\\OneDrive\\Desktop\\GitHub\\Project3-Team1\\flavor_csv\\top_ABV.csv')\n",
    "top_ABV.head(10)\n",
    "\n",
    "for col in top_ABV.columns:\n",
    "    print(top_ABV[col].values)\n"
   ]
  },
  {
   "cell_type": "code",
   "execution_count": null,
   "metadata": {},
   "outputs": [],
   "source": [
    "top_IBU = top_beers.sort_values(by=['Avg IBU'],ascending=False).head(10)\n",
    "top_IBU['Placement'] = placement\n",
    "top_IBU =  top_IBU[ ['Placement'] + [col for col in top_IBU.columns if col != 'Placement']].set_index(['Placement'])\n",
    "top_IBU = top_IBU[['Beer Name','Avg IBU','Brewery','Beer Type']]\n",
    "top_IBU.to_csv(r'C:\\Users\\hmwhi\\OneDrive\\Desktop\\GitHub\\Project3-Team1\\flavor_csv\\top_IBU.csv')\n",
    "top_IBU.head(10)\n",
    "\n",
    "for col in top_IBU.columns:\n",
    "    print(top_IBU[col].values)\n"
   ]
  },
  {
   "cell_type": "code",
   "execution_count": null,
   "metadata": {},
   "outputs": [],
   "source": [
    "top_rating = top_beers.sort_values(by=['Ave Rating'],ascending=False).head(10)\n",
    "top_rating['Placement'] = placement\n",
    "top_rating =  top_rating[ ['Placement'] + [col for col in top_rating.columns if col != 'Placement']].set_index(['Placement'])\n",
    "top_rating = top_rating[['Beer Name','Ave Rating','Brewery','Beer Type']]\n",
    "top_rating.to_csv(r'C:\\Users\\hmwhi\\OneDrive\\Desktop\\GitHub\\Project3-Team1\\flavor_csv\\top_rtg.csv')\n",
    "top_rating.head(10)"
   ]
  },
  {
   "cell_type": "code",
   "execution_count": null,
   "metadata": {},
   "outputs": [],
   "source": [
    "top_astringency = top_beers.sort_values(by=['Astringency'],ascending=False).head(10)\n",
    "top_astringency['Placement'] = placement\n",
    "top_astringency =  top_astringency[ ['Placement'] + [col for col in top_astringency.columns if col != 'Placement']].set_index(['Placement'])\n",
    "top_astringency = top_astringency[['Beer Name','Astringency','Brewery','Beer Type']]\n",
    "top_astringency.to_csv(r'C:\\Users\\hmwhi\\OneDrive\\Desktop\\GitHub\\Project3-Team1\\flavor_csv\\top_ast.csv')\n",
    "top_astringency.head(10)\n",
    "\n",
    "for col in top_astringency.columns:\n",
    "    print(top_astringency[col].values)"
   ]
  },
  {
   "cell_type": "code",
   "execution_count": null,
   "metadata": {},
   "outputs": [],
   "source": [
    "top_body = top_beers.sort_values(by=['Body'],ascending=False).head(10)\n",
    "top_body['Placement'] = placement\n",
    "top_body =  top_body[ ['Placement'] + [col for col in top_body.columns if col != 'Placement']].set_index(['Placement'])\n",
    "top_body = top_body[['Beer Name','Body','Brewery','Beer Type']]\n",
    "top_body.to_csv(r'C:\\Users\\hmwhi\\OneDrive\\Desktop\\GitHub\\Project3-Team1\\flavor_csv\\top_bdy.csv')\n",
    "top_body.head(10)\n",
    "\n",
    "for col in top_body.columns:\n",
    "    print(top_body[col].values)"
   ]
  },
  {
   "cell_type": "code",
   "execution_count": null,
   "metadata": {},
   "outputs": [],
   "source": [
    "top_alcohol = top_beers.sort_values(by=['Alcohol'],ascending=False).head(10)\n",
    "top_alcohol['Placement'] = placement\n",
    "top_alcohol =  top_alcohol[ ['Placement'] + [col for col in top_alcohol.columns if col != 'Placement']].set_index(['Placement'])\n",
    "top_alcohol = top_alcohol[['Beer Name','Alcohol','Brewery','Beer Type']]\n",
    "top_alcohol.to_csv(r'C:\\Users\\hmwhi\\OneDrive\\Desktop\\GitHub\\Project3-Team1\\flavor_csv\\top_alc.csv')\n",
    "top_alcohol.head(10)\n",
    "\n",
    "for col in top_alcohol.columns:\n",
    "    print(top_alcohol[col].values)\n"
   ]
  },
  {
   "cell_type": "code",
   "execution_count": null,
   "metadata": {},
   "outputs": [],
   "source": [
    "top_bitter = top_beers.sort_values(by=['Bitter'],ascending=False).head(10)\n",
    "top_bitter['Placement'] = placement\n",
    "top_bitter =  top_bitter[ ['Placement'] + [col for col in top_bitter.columns if col != 'Placement']].set_index(['Placement'])\n",
    "top_bitter = top_bitter[['Beer Name','Bitter','Brewery','Beer Type']]\n",
    "top_bitter.rename(columns={'Bitter':'Bitterness'},inplace=True)\n",
    "top_bitter.to_csv(r'C:\\Users\\hmwhi\\OneDrive\\Desktop\\GitHub\\Project3-Team1\\flavor_csv\\top_btr.csv')\n",
    "top_bitter.head(10)\n",
    "\n",
    "for col in top_bitter.columns:\n",
    "    print(top_bitter[col].values)\n"
   ]
  },
  {
   "cell_type": "code",
   "execution_count": null,
   "metadata": {},
   "outputs": [],
   "source": [
    "top_sweet = top_beers.sort_values(by=['Sweet'],ascending=False).head(10)\n",
    "top_sweet['Placement'] = placement\n",
    "top_sweet =  top_sweet[ ['Placement'] + [col for col in top_sweet.columns if col != 'Placement']].set_index(['Placement'])\n",
    "top_sweet = top_sweet[['Beer Name','Sweet','Brewery','Beer Type']]\n",
    "top_sweet.rename(columns={'Sweet':'Sweetness'},inplace=True)\n",
    "top_sweet.to_csv(r'C:\\Users\\hmwhi\\OneDrive\\Desktop\\GitHub\\Project3-Team1\\flavor_csv\\top_swt.csv')\n",
    "top_sweet.head(10)\n",
    "\n",
    "for col in top_sweet.columns:\n",
    "    print(top_sweet[col].values)\n",
    "    "
   ]
  },
  {
   "cell_type": "code",
   "execution_count": null,
   "metadata": {},
   "outputs": [],
   "source": [
    "top_sour = top_beers.sort_values(by=['Sour'],ascending=False).head(10)\n",
    "top_sour['Placement'] = placement\n",
    "top_sour =  top_sour[ ['Placement'] + [col for col in top_sour.columns if col != 'Placement']].set_index(['Placement'])\n",
    "top_sour = top_sour[['Beer Name','Sour','Brewery','Beer Type']]\n",
    "top_sour.rename(columns={'Sour':'Sourness'},inplace=True)\n",
    "top_sour.to_csv(r'C:\\Users\\hmwhi\\OneDrive\\Desktop\\GitHub\\Project3-Team1\\flavor_csv\\top_sou.csv')\n",
    "top_sour.head(10)\n",
    "\n",
    "for col in top_sour.columns:\n",
    "    print(top_sour[col].values)"
   ]
  },
  {
   "cell_type": "code",
   "execution_count": null,
   "metadata": {},
   "outputs": [],
   "source": [
    "top_salty = top_beers.sort_values(by=['Salty'],ascending=False).head(10)\n",
    "top_salty['Placement'] = placement\n",
    "top_salty =  top_salty[ ['Placement'] + [col for col in top_salty.columns if col != 'Placement']].set_index(['Placement'])\n",
    "top_salty = top_salty[['Beer Name','Salty','Brewery','Beer Type']]\n",
    "top_salty.rename(columns={'Salty':'Saltiness'},inplace=True)\n",
    "top_salty.to_csv(r'C:\\Users\\hmwhi\\OneDrive\\Desktop\\GitHub\\Project3-Team1\\flavor_csv\\top_slt.csv')\n",
    "top_salty.head(10)\n",
    "\n",
    "for col in top_salty.columns:\n",
    "    print(top_salty[col].values)\n"
   ]
  },
  {
   "cell_type": "code",
   "execution_count": null,
   "metadata": {},
   "outputs": [],
   "source": [
    "top_fruits = top_beers.sort_values(by=['Fruits'],ascending=False).head(10)\n",
    "top_fruits['Placement'] = placement\n",
    "top_fruits =  top_fruits[ ['Placement'] + [col for col in top_fruits.columns if col != 'Placement']].set_index(['Placement'])\n",
    "top_fruits = top_fruits[['Beer Name','Fruits','Brewery','Beer Type']]\n",
    "top_fruits.rename(columns={'Fruits':'Fruitiness'},inplace=True)\n",
    "top_fruits.to_csv(r'C:\\Users\\hmwhi\\OneDrive\\Desktop\\GitHub\\Project3-Team1\\flavor_csv\\top_frt.csv')\n",
    "top_fruits.head(10)\n",
    "\n",
    "for col in top_fruits.columns:\n",
    "    print(top_fruits[col].values)"
   ]
  },
  {
   "cell_type": "code",
   "execution_count": null,
   "metadata": {},
   "outputs": [],
   "source": [
    "top_hoppy = top_beers.sort_values(by=['Hoppy'],ascending=False).head(10)\n",
    "top_hoppy['Placement'] = placement\n",
    "top_hoppy =  top_hoppy[ ['Placement'] + [col for col in top_hoppy.columns if col != 'Placement']].set_index(['Placement'])\n",
    "top_hoppy = top_hoppy[['Beer Name','Hoppy','Brewery','Beer Type']]\n",
    "top_hoppy.rename(columns={'Hoppy':'Hoppiness'},inplace=True)\n",
    "top_hoppy.to_csv(r'C:\\Users\\hmwhi\\OneDrive\\Desktop\\GitHub\\Project3-Team1\\flavor_csv\\top_hop.csv')\n",
    "top_hoppy.head(10)\n",
    "\n",
    "for col in top_hoppy.columns:\n",
    "    print(top_hoppy[col].values)\n",
    "    "
   ]
  },
  {
   "cell_type": "code",
   "execution_count": null,
   "metadata": {},
   "outputs": [],
   "source": [
    "top_spices = top_beers.sort_values(by=['Spices'],ascending=False).head(10)\n",
    "top_spices['Placement'] = placement\n",
    "top_spices =  top_spices[ ['Placement'] + [col for col in top_spices.columns if col != 'Placement']].set_index(['Placement'])\n",
    "top_spices = top_spices[['Beer Name','Spices','Brewery','Beer Type']]\n",
    "top_spices.to_csv(r'C:\\Users\\hmwhi\\OneDrive\\Desktop\\GitHub\\Project3-Team1\\flavor_csv\\top_spc.csv')\n",
    "top_spices.head(10)\n",
    "\n",
    "for col in top_spices.columns:\n",
    "    print(top_spices[col].values)\n",
    "    \n"
   ]
  },
  {
   "cell_type": "code",
   "execution_count": null,
   "metadata": {},
   "outputs": [],
   "source": [
    "top_malty = top_beers.sort_values(by=['Malty'],ascending=False).head(10)\n",
    "top_malty['Placement'] = placement\n",
    "top_malty =  top_malty[ ['Placement'] + [col for col in top_malty.columns if col != 'Placement']].set_index(['Placement'])\n",
    "top_malty = top_malty[['Beer Name','Malty','Brewery','Beer Type']]\n",
    "top_malty.rename(columns={'Malty':'Maltiness'},inplace=True)\n",
    "top_malty.to_csv(r'C:\\Users\\hmwhi\\OneDrive\\Desktop\\GitHub\\Project3-Team1\\flavor_csv\\top_mlt.csv')\n",
    "top_malty.head(10)\n",
    "\n",
    "for col in top_malty.columns:\n",
    "    print(top_malty[col].values)"
   ]
  },
  {
   "cell_type": "code",
   "execution_count": null,
   "metadata": {},
   "outputs": [],
   "source": [
    "top_rating = top_beers.sort_values(by=['Ave Rating'],ascending=False).head(10)\n",
    "top_rating['Placement'] = placement\n",
    "top_rating =  top_rating[ ['Placement'] + [col for col in top_rating.columns if col != 'Placement']].set_index(['Placement'])\n",
    "top_rating = top_rating[['Beer Name','Ave Rating','Brewery','Beer Type']]\n",
    "top_rating.to_csv(r'C:\\Users\\hmwhi\\OneDrive\\Desktop\\GitHub\\Project3-Team1\\flavor_csv\\top_rat.csv')\n",
    "top_rating.head(10)\n",
    "\n",
    "for col in top_rating.columns:\n",
    "    print(top_rating[col].values)"
   ]
  },
  {
   "cell_type": "code",
   "execution_count": 63,
   "metadata": {},
   "outputs": [
    {
     "name": "stdout",
     "output_type": "stream",
     "text": [
      "['Sour In The Rye - Kumquats' 'King Julius' 'Juice Machine' 'Very Green'\n",
      " 'JJJuliusss' 'Femme Fatale Yuzu Pale' 'Montmorency Vs Balaton'\n",
      " 'Serendipity' 'Doubleganger' 'Society & Solitude #4']\n",
      "[222 217 211 209 207 207 204 202 201 200]\n",
      "['Bruery Terreux' 'Tree House Brewing Company'\n",
      " 'Tree House Brewing Company' 'Tree House Brewing Company'\n",
      " 'Tree House Brewing Company' 'Evil Twin Brewing' 'Jester King Brewery'\n",
      " 'New Glarus Brewing Company' 'Tree House Brewing Company'\n",
      " 'Hill Farmstead Brewery']\n",
      "['Wild Ale' 'IPA - New England' 'IPA - New England' 'IPA - New England'\n",
      " 'IPA - New England' 'Brett Beer' 'Wild Ale' 'Fruit and Field Beer'\n",
      " 'IPA - New England' 'IPA - New England']\n"
     ]
    }
   ],
   "source": [
    "top_fruits = top_beers.sort_values(by=['Fruits'],ascending=False).head(10)\n",
    "top_fruits['Placement'] = placement\n",
    "top_fruits =  top_fruits[ ['Placement'] + [col for col in top_fruits.columns if col != 'Placement']].set_index(['Placement'])\n",
    "top_fruits = top_fruits[['Beer Name','Fruits','Brewery','Beer Type']]\n",
    "top_fruits.rename(columns={'Fruits':'Fruitiness'},inplace=True)\n",
    "top_fruits.to_csv(r'C:\\Users\\hmwhi\\OneDrive\\Desktop\\GitHub\\Project3-Team1\\flavor_csv\\top_frt.csv')\n",
    "top_fruits.head(10)\n",
    "\n",
    "for col in top_fruits.columns:\n",
    "    print(top_fruits[col].values)"
   ]
  }
 ],
 "metadata": {
  "interpreter": {
   "hash": "696a868d263820d96c3e015462b3285736058cba07fad26566882fe661452fde"
  },
  "kernelspec": {
   "display_name": "Python 3.8.8 64-bit ('base': conda)",
   "language": "python",
   "name": "python3"
  },
  "language_info": {
   "codemirror_mode": {
    "name": "ipython",
    "version": 3
   },
   "file_extension": ".py",
   "mimetype": "text/x-python",
   "name": "python",
   "nbconvert_exporter": "python",
   "pygments_lexer": "ipython3",
   "version": "3.8.8"
  },
  "orig_nbformat": 4
 },
 "nbformat": 4,
 "nbformat_minor": 2
}
