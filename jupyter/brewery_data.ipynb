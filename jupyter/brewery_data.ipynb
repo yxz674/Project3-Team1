{
 "cells": [
  {
   "cell_type": "markdown",
   "metadata": {},
   "source": [
    "This Notebook will serve to extract, tranform and load the United States Brewery Data contained in the breweries.csv file obtained from the opensource BreweriesDB project."
   ]
  },
  {
   "cell_type": "code",
   "execution_count": 1,
   "metadata": {},
   "outputs": [],
   "source": [
    "# importing all libraries\n",
    "import pandas as pd\n",
    "import numpy as np\n",
    "import matplotlib.pyplot as plt\n",
    "import seaborn as sns\n",
    "import os\n",
    "import sys\n"
   ]
  },
  {
   "cell_type": "code",
   "execution_count": 2,
   "metadata": {},
   "outputs": [
    {
     "name": "stdout",
     "output_type": "stream",
     "text": [
      "<class 'pandas.core.frame.DataFrame'>\n",
      "RangeIndex: 8019 entries, 0 to 8018\n",
      "Data columns (total 16 columns):\n",
      " #   Column           Non-Null Count  Dtype  \n",
      "---  ------           --------------  -----  \n",
      " 0   obdb_id          8019 non-null   object \n",
      " 1   name             8019 non-null   object \n",
      " 2   brewery_type     8019 non-null   object \n",
      " 3   street           7214 non-null   object \n",
      " 4   address_2        66 non-null     object \n",
      " 5   address_3        23 non-null     object \n",
      " 6   city             8019 non-null   object \n",
      " 7   state            7877 non-null   object \n",
      " 8   county_province  143 non-null    object \n",
      " 9   postal_code      8019 non-null   object \n",
      " 10  website_url      6837 non-null   object \n",
      " 11  phone            7212 non-null   object \n",
      " 12  country          8019 non-null   object \n",
      " 13  longitude        5228 non-null   float64\n",
      " 14  latitude         5228 non-null   float64\n",
      " 15  tags             0 non-null      float64\n",
      "dtypes: float64(3), object(13)\n",
      "memory usage: 1002.5+ KB\n"
     ]
    }
   ],
   "source": [
    "# read the brewery data from the csv file\n",
    "raw_brewery_data = pd.read_csv(\"data/breweries.csv\")\n",
    "raw_brewery_data.info()\n",
    "\n"
   ]
  },
  {
   "cell_type": "code",
   "execution_count": 25,
   "metadata": {},
   "outputs": [
    {
     "name": "stdout",
     "output_type": "stream",
     "text": [
      "<class 'pandas.core.frame.DataFrame'>\n",
      "Int64Index: 7874 entries, 0 to 8018\n",
      "Data columns (total 16 columns):\n",
      " #   Column           Non-Null Count  Dtype  \n",
      "---  ------           --------------  -----  \n",
      " 0   obdb_id          7874 non-null   object \n",
      " 1   name             7874 non-null   object \n",
      " 2   brewery_type     7874 non-null   object \n",
      " 3   street           7069 non-null   object \n",
      " 4   address_2        2 non-null      object \n",
      " 5   address_3        0 non-null      object \n",
      " 6   city             7874 non-null   object \n",
      " 7   state            7874 non-null   object \n",
      " 8   county_province  1 non-null      object \n",
      " 9   postal_code      7874 non-null   object \n",
      " 10  website_url      6701 non-null   object \n",
      " 11  phone            7077 non-null   object \n",
      " 12  country          7874 non-null   object \n",
      " 13  longitude        5084 non-null   float64\n",
      " 14  latitude         5084 non-null   float64\n",
      " 15  tags             0 non-null      float64\n",
      "dtypes: float64(3), object(13)\n",
      "memory usage: 1.0+ MB\n"
     ]
    }
   ],
   "source": [
    "# drop all rows not = to the usa\n",
    "usa_raw_brewery_data = raw_brewery_data[raw_brewery_data['country'] == 'United States']\n",
    "usa_raw_brewery_data.info()"
   ]
  },
  {
   "cell_type": "code",
   "execution_count": 26,
   "metadata": {},
   "outputs": [
    {
     "name": "stdout",
     "output_type": "stream",
     "text": [
      "<class 'pandas.core.frame.DataFrame'>\n",
      "Int64Index: 7874 entries, 0 to 8018\n",
      "Data columns (total 12 columns):\n",
      " #   Column        Non-Null Count  Dtype  \n",
      "---  ------        --------------  -----  \n",
      " 0   obdb_id       7874 non-null   object \n",
      " 1   name          7874 non-null   object \n",
      " 2   brewery_type  7874 non-null   object \n",
      " 3   street        7069 non-null   object \n",
      " 4   city          7874 non-null   object \n",
      " 5   state         7874 non-null   object \n",
      " 6   postal_code   7874 non-null   object \n",
      " 7   website_url   6701 non-null   object \n",
      " 8   phone         7077 non-null   object \n",
      " 9   country       7874 non-null   object \n",
      " 10  longitude     5084 non-null   float64\n",
      " 11  latitude      5084 non-null   float64\n",
      "dtypes: float64(2), object(10)\n",
      "memory usage: 799.7+ KB\n"
     ]
    },
    {
     "name": "stderr",
     "output_type": "stream",
     "text": [
      "C:\\Users\\benjy\\anaconda3\\lib\\site-packages\\pandas\\core\\frame.py:4308: SettingWithCopyWarning: \n",
      "A value is trying to be set on a copy of a slice from a DataFrame\n",
      "\n",
      "See the caveats in the documentation: https://pandas.pydata.org/pandas-docs/stable/user_guide/indexing.html#returning-a-view-versus-a-copy\n",
      "  return super().drop(\n"
     ]
    }
   ],
   "source": [
    "# drop address_2, address_3, county_provine, tags columns\n",
    "usa_raw_brewery_data.drop(['address_2', 'address_3', 'county_province', 'tags'], axis=1, inplace=True)\n",
    "usa_raw_brewery_data.info()"
   ]
  },
  {
   "cell_type": "code",
   "execution_count": 27,
   "metadata": {},
   "outputs": [
    {
     "name": "stdout",
     "output_type": "stream",
     "text": [
      "<class 'pandas.core.frame.DataFrame'>\n",
      "Int64Index: 5084 entries, 0 to 8018\n",
      "Data columns (total 12 columns):\n",
      " #   Column        Non-Null Count  Dtype  \n",
      "---  ------        --------------  -----  \n",
      " 0   obdb_id       5084 non-null   object \n",
      " 1   name          5084 non-null   object \n",
      " 2   brewery_type  5084 non-null   object \n",
      " 3   street        4966 non-null   object \n",
      " 4   city          5084 non-null   object \n",
      " 5   state         5084 non-null   object \n",
      " 6   postal_code   5084 non-null   object \n",
      " 7   website_url   4473 non-null   object \n",
      " 8   phone         4670 non-null   object \n",
      " 9   country       5084 non-null   object \n",
      " 10  longitude     5084 non-null   float64\n",
      " 11  latitude      5084 non-null   float64\n",
      "dtypes: float64(2), object(10)\n",
      "memory usage: 516.3+ KB\n"
     ]
    },
    {
     "name": "stderr",
     "output_type": "stream",
     "text": [
      "<ipython-input-27-524a41fa7d47>:2: SettingWithCopyWarning: \n",
      "A value is trying to be set on a copy of a slice from a DataFrame\n",
      "\n",
      "See the caveats in the documentation: https://pandas.pydata.org/pandas-docs/stable/user_guide/indexing.html#returning-a-view-versus-a-copy\n",
      "  usa_raw_brewery_data.dropna(subset=['latitude', 'longitude'], inplace=True)\n"
     ]
    }
   ],
   "source": [
    "# drop all rows where latitude and longitude are null\n",
    "usa_raw_brewery_data.dropna(subset=['latitude', 'longitude'], inplace=True)\n",
    "usa_raw_brewery_data.info()"
   ]
  },
  {
   "cell_type": "code",
   "execution_count": 28,
   "metadata": {},
   "outputs": [
    {
     "name": "stdout",
     "output_type": "stream",
     "text": [
      "<class 'pandas.core.frame.DataFrame'>\n",
      "Int64Index: 5084 entries, 0 to 8018\n",
      "Data columns (total 12 columns):\n",
      " #   Column        Non-Null Count  Dtype  \n",
      "---  ------        --------------  -----  \n",
      " 0   obdb_id       5084 non-null   object \n",
      " 1   name          5084 non-null   object \n",
      " 2   brewery_type  5084 non-null   object \n",
      " 3   street        4966 non-null   object \n",
      " 4   city          5084 non-null   object \n",
      " 5   state         5084 non-null   object \n",
      " 6   postal_code   5084 non-null   object \n",
      " 7   website_url   4473 non-null   object \n",
      " 8   phone         4670 non-null   object \n",
      " 9   country       5084 non-null   object \n",
      " 10  longitude     5084 non-null   float64\n",
      " 11  latitude      5084 non-null   float64\n",
      "dtypes: float64(2), object(10)\n",
      "memory usage: 516.3+ KB\n"
     ]
    }
   ],
   "source": [
    "# create new dataframe called us_brewey_data\n",
    "us_brewery_data = pd.DataFrame(usa_raw_brewery_data)\n",
    "us_brewery_data.info()"
   ]
  },
  {
   "cell_type": "code",
   "execution_count": 33,
   "metadata": {},
   "outputs": [
    {
     "data": {
      "text/html": [
       "<div>\n",
       "<style scoped>\n",
       "    .dataframe tbody tr th:only-of-type {\n",
       "        vertical-align: middle;\n",
       "    }\n",
       "\n",
       "    .dataframe tbody tr th {\n",
       "        vertical-align: top;\n",
       "    }\n",
       "\n",
       "    .dataframe thead th {\n",
       "        text-align: right;\n",
       "    }\n",
       "</style>\n",
       "<table border=\"1\" class=\"dataframe\">\n",
       "  <thead>\n",
       "    <tr style=\"text-align: right;\">\n",
       "      <th></th>\n",
       "      <th>obdb_id</th>\n",
       "      <th>name</th>\n",
       "      <th>brewery_type</th>\n",
       "      <th>street</th>\n",
       "      <th>city</th>\n",
       "      <th>state</th>\n",
       "      <th>postal_code</th>\n",
       "      <th>website_url</th>\n",
       "      <th>phone</th>\n",
       "      <th>country</th>\n",
       "      <th>longitude</th>\n",
       "      <th>latitude</th>\n",
       "    </tr>\n",
       "  </thead>\n",
       "  <tbody>\n",
       "    <tr>\n",
       "      <th>0</th>\n",
       "      <td>siluria-brewing-company-alabaster</td>\n",
       "      <td>Siluria Brewing Company</td>\n",
       "      <td>planning</td>\n",
       "      <td>NaN</td>\n",
       "      <td>Alabaster</td>\n",
       "      <td>Alabama</td>\n",
       "      <td>35007-8501</td>\n",
       "      <td>http://www.siluriabrewing.com</td>\n",
       "      <td>2054827661</td>\n",
       "      <td>United States</td>\n",
       "      <td>-86.816377</td>\n",
       "      <td>33.244281</td>\n",
       "    </tr>\n",
       "    <tr>\n",
       "      <th>1</th>\n",
       "      <td>cheaha-brewing-co-anniston</td>\n",
       "      <td>Cheaha Brewing Co</td>\n",
       "      <td>brewpub</td>\n",
       "      <td>1208 Walnut Ave</td>\n",
       "      <td>Anniston</td>\n",
       "      <td>Alabama</td>\n",
       "      <td>36201-4526</td>\n",
       "      <td>http://www.cheahabrewingcompany.com</td>\n",
       "      <td>2567707300</td>\n",
       "      <td>United States</td>\n",
       "      <td>-85.833774</td>\n",
       "      <td>33.660167</td>\n",
       "    </tr>\n",
       "    <tr>\n",
       "      <th>2</th>\n",
       "      <td>avondale-brewing-co-birmingham</td>\n",
       "      <td>Avondale Brewing Co</td>\n",
       "      <td>micro</td>\n",
       "      <td>201 41st St S</td>\n",
       "      <td>Birmingham</td>\n",
       "      <td>Alabama</td>\n",
       "      <td>35222-1932</td>\n",
       "      <td>http://www.avondalebrewing.com</td>\n",
       "      <td>2057775456</td>\n",
       "      <td>United States</td>\n",
       "      <td>-86.774322</td>\n",
       "      <td>33.524521</td>\n",
       "    </tr>\n",
       "    <tr>\n",
       "      <th>3</th>\n",
       "      <td>birmingham-district-brewing-birmingham</td>\n",
       "      <td>Birmingham District Brewing</td>\n",
       "      <td>planning</td>\n",
       "      <td>NaN</td>\n",
       "      <td>Birmingham</td>\n",
       "      <td>Alabama</td>\n",
       "      <td>35242-5651</td>\n",
       "      <td>NaN</td>\n",
       "      <td>6019380486</td>\n",
       "      <td>United States</td>\n",
       "      <td>-86.802433</td>\n",
       "      <td>33.520682</td>\n",
       "    </tr>\n",
       "    <tr>\n",
       "      <th>4</th>\n",
       "      <td>brewpub-in-planning-birmingham-birmingham</td>\n",
       "      <td>Brewpub In Planning - Birmingham</td>\n",
       "      <td>planning</td>\n",
       "      <td>NaN</td>\n",
       "      <td>Birmingham</td>\n",
       "      <td>Alabama</td>\n",
       "      <td>35222</td>\n",
       "      <td>NaN</td>\n",
       "      <td>2565854531</td>\n",
       "      <td>United States</td>\n",
       "      <td>-86.802433</td>\n",
       "      <td>33.520682</td>\n",
       "    </tr>\n",
       "  </tbody>\n",
       "</table>\n",
       "</div>"
      ],
      "text/plain": [
       "                                     obdb_id  \\\n",
       "0          siluria-brewing-company-alabaster   \n",
       "1                 cheaha-brewing-co-anniston   \n",
       "2             avondale-brewing-co-birmingham   \n",
       "3     birmingham-district-brewing-birmingham   \n",
       "4  brewpub-in-planning-birmingham-birmingham   \n",
       "\n",
       "                               name brewery_type           street        city  \\\n",
       "0           Siluria Brewing Company     planning              NaN   Alabaster   \n",
       "1                 Cheaha Brewing Co      brewpub  1208 Walnut Ave    Anniston   \n",
       "2               Avondale Brewing Co        micro    201 41st St S  Birmingham   \n",
       "3       Birmingham District Brewing     planning              NaN  Birmingham   \n",
       "4  Brewpub In Planning - Birmingham     planning              NaN  Birmingham   \n",
       "\n",
       "     state postal_code                          website_url       phone  \\\n",
       "0  Alabama  35007-8501        http://www.siluriabrewing.com  2054827661   \n",
       "1  Alabama  36201-4526  http://www.cheahabrewingcompany.com  2567707300   \n",
       "2  Alabama  35222-1932       http://www.avondalebrewing.com  2057775456   \n",
       "3  Alabama  35242-5651                                  NaN  6019380486   \n",
       "4  Alabama       35222                                  NaN  2565854531   \n",
       "\n",
       "         country  longitude   latitude  \n",
       "0  United States -86.816377  33.244281  \n",
       "1  United States -85.833774  33.660167  \n",
       "2  United States -86.774322  33.524521  \n",
       "3  United States -86.802433  33.520682  \n",
       "4  United States -86.802433  33.520682  "
      ]
     },
     "execution_count": 33,
     "metadata": {},
     "output_type": "execute_result"
    }
   ],
   "source": [
    "# sort data frame by state then by city then by brewery name and reset index\n",
    "\n",
    "us_brewery_data.sort_values(by=['state', 'city', 'name'], inplace=True, ascending=True)\n",
    "\n",
    "# reset index on us_brewery_data\n",
    "us_brewery_data.reset_index(drop=True, inplace=True)\n",
    "us_brewery_data.head()"
   ]
  },
  {
   "cell_type": "code",
   "execution_count": 34,
   "metadata": {},
   "outputs": [],
   "source": [
    "# save the dataframe to a csv file\n",
    "us_brewery_data.to_csv('data/usbreweries.csv')"
   ]
  },
  {
   "cell_type": "code",
   "execution_count": 35,
   "metadata": {},
   "outputs": [],
   "source": [
    "# save the dataframe to a JSON file\n",
    "us_brewery_data.to_json('data/usbreweries.json')\n",
    "\n"
   ]
  }
 ],
 "metadata": {
  "interpreter": {
   "hash": "bce03e0203ca6d29490e03d392228e90828a57ede4d3c15fe8f3c680f7829612"
  },
  "kernelspec": {
   "display_name": "Python 3.8.8 64-bit ('base': conda)",
   "language": "python",
   "name": "python3"
  },
  "language_info": {
   "codemirror_mode": {
    "name": "ipython",
    "version": 3
   },
   "file_extension": ".py",
   "mimetype": "text/x-python",
   "name": "python",
   "nbconvert_exporter": "python",
   "pygments_lexer": "ipython3",
   "version": "3.8.8"
  },
  "orig_nbformat": 4
 },
 "nbformat": 4,
 "nbformat_minor": 2
}
